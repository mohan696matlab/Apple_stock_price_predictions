{
 "cells": [
  {
   "cell_type": "code",
   "execution_count": 4,
   "metadata": {},
   "outputs": [
    {
     "data": {
      "text/html": [
       "<div>\n",
       "<style scoped>\n",
       "    .dataframe tbody tr th:only-of-type {\n",
       "        vertical-align: middle;\n",
       "    }\n",
       "\n",
       "    .dataframe tbody tr th {\n",
       "        vertical-align: top;\n",
       "    }\n",
       "\n",
       "    .dataframe thead th {\n",
       "        text-align: right;\n",
       "    }\n",
       "</style>\n",
       "<table border=\"1\" class=\"dataframe\">\n",
       "  <thead>\n",
       "    <tr style=\"text-align: right;\">\n",
       "      <th></th>\n",
       "      <th>symbol</th>\n",
       "      <th>date</th>\n",
       "      <th>close</th>\n",
       "      <th>high</th>\n",
       "      <th>low</th>\n",
       "      <th>open</th>\n",
       "      <th>volume</th>\n",
       "      <th>adjClose</th>\n",
       "      <th>adjHigh</th>\n",
       "      <th>adjLow</th>\n",
       "      <th>adjOpen</th>\n",
       "      <th>adjVolume</th>\n",
       "      <th>divCash</th>\n",
       "      <th>splitFactor</th>\n",
       "    </tr>\n",
       "  </thead>\n",
       "  <tbody>\n",
       "    <tr>\n",
       "      <th>1252</th>\n",
       "      <td>AAPL</td>\n",
       "      <td>2020-08-05 00:00:00+00:00</td>\n",
       "      <td>440.25</td>\n",
       "      <td>441.57</td>\n",
       "      <td>435.5900</td>\n",
       "      <td>437.510</td>\n",
       "      <td>30497988</td>\n",
       "      <td>439.439245</td>\n",
       "      <td>440.756814</td>\n",
       "      <td>434.787826</td>\n",
       "      <td>436.704291</td>\n",
       "      <td>30497988</td>\n",
       "      <td>0.00</td>\n",
       "      <td>1.0</td>\n",
       "    </tr>\n",
       "    <tr>\n",
       "      <th>1253</th>\n",
       "      <td>AAPL</td>\n",
       "      <td>2020-08-06 00:00:00+00:00</td>\n",
       "      <td>455.61</td>\n",
       "      <td>457.65</td>\n",
       "      <td>439.1900</td>\n",
       "      <td>441.620</td>\n",
       "      <td>50607225</td>\n",
       "      <td>454.770958</td>\n",
       "      <td>456.807201</td>\n",
       "      <td>438.381197</td>\n",
       "      <td>440.806722</td>\n",
       "      <td>50607225</td>\n",
       "      <td>0.00</td>\n",
       "      <td>1.0</td>\n",
       "    </tr>\n",
       "    <tr>\n",
       "      <th>1254</th>\n",
       "      <td>AAPL</td>\n",
       "      <td>2020-08-07 00:00:00+00:00</td>\n",
       "      <td>444.45</td>\n",
       "      <td>454.70</td>\n",
       "      <td>441.1700</td>\n",
       "      <td>452.820</td>\n",
       "      <td>49511403</td>\n",
       "      <td>444.450000</td>\n",
       "      <td>454.700000</td>\n",
       "      <td>441.170000</td>\n",
       "      <td>452.820000</td>\n",
       "      <td>49511403</td>\n",
       "      <td>0.82</td>\n",
       "      <td>1.0</td>\n",
       "    </tr>\n",
       "    <tr>\n",
       "      <th>1255</th>\n",
       "      <td>AAPL</td>\n",
       "      <td>2020-08-10 00:00:00+00:00</td>\n",
       "      <td>450.91</td>\n",
       "      <td>455.10</td>\n",
       "      <td>440.0000</td>\n",
       "      <td>450.400</td>\n",
       "      <td>53100856</td>\n",
       "      <td>450.910000</td>\n",
       "      <td>455.100000</td>\n",
       "      <td>440.000000</td>\n",
       "      <td>450.400000</td>\n",
       "      <td>53100856</td>\n",
       "      <td>0.00</td>\n",
       "      <td>1.0</td>\n",
       "    </tr>\n",
       "    <tr>\n",
       "      <th>1256</th>\n",
       "      <td>AAPL</td>\n",
       "      <td>2020-08-11 00:00:00+00:00</td>\n",
       "      <td>437.50</td>\n",
       "      <td>449.93</td>\n",
       "      <td>436.4267</td>\n",
       "      <td>447.875</td>\n",
       "      <td>46975594</td>\n",
       "      <td>437.500000</td>\n",
       "      <td>449.930000</td>\n",
       "      <td>436.426700</td>\n",
       "      <td>447.875000</td>\n",
       "      <td>46975594</td>\n",
       "      <td>0.00</td>\n",
       "      <td>1.0</td>\n",
       "    </tr>\n",
       "  </tbody>\n",
       "</table>\n",
       "</div>"
      ],
      "text/plain": [
       "     symbol                       date   close    high       low     open  \\\n",
       "1252   AAPL  2020-08-05 00:00:00+00:00  440.25  441.57  435.5900  437.510   \n",
       "1253   AAPL  2020-08-06 00:00:00+00:00  455.61  457.65  439.1900  441.620   \n",
       "1254   AAPL  2020-08-07 00:00:00+00:00  444.45  454.70  441.1700  452.820   \n",
       "1255   AAPL  2020-08-10 00:00:00+00:00  450.91  455.10  440.0000  450.400   \n",
       "1256   AAPL  2020-08-11 00:00:00+00:00  437.50  449.93  436.4267  447.875   \n",
       "\n",
       "        volume    adjClose     adjHigh      adjLow     adjOpen  adjVolume  \\\n",
       "1252  30497988  439.439245  440.756814  434.787826  436.704291   30497988   \n",
       "1253  50607225  454.770958  456.807201  438.381197  440.806722   50607225   \n",
       "1254  49511403  444.450000  454.700000  441.170000  452.820000   49511403   \n",
       "1255  53100856  450.910000  455.100000  440.000000  450.400000   53100856   \n",
       "1256  46975594  437.500000  449.930000  436.426700  447.875000   46975594   \n",
       "\n",
       "      divCash  splitFactor  \n",
       "1252     0.00          1.0  \n",
       "1253     0.00          1.0  \n",
       "1254     0.82          1.0  \n",
       "1255     0.00          1.0  \n",
       "1256     0.00          1.0  "
      ]
     },
     "execution_count": 4,
     "metadata": {},
     "output_type": "execute_result"
    }
   ],
   "source": [
    "# Data collection\n",
    "\n",
    "import pandas as pd\n",
    "df = pd.read_csv('AAPL.csv')\n",
    "df.tail()"
   ]
  },
  {
   "cell_type": "code",
   "execution_count": 5,
   "metadata": {},
   "outputs": [
    {
     "data": {
      "text/plain": [
       "0       115.96\n",
       "1       117.16\n",
       "2       116.50\n",
       "3       115.01\n",
       "4       112.65\n",
       "         ...  \n",
       "1252    440.25\n",
       "1253    455.61\n",
       "1254    444.45\n",
       "1255    450.91\n",
       "1256    437.50\n",
       "Name: close, Length: 1257, dtype: float64"
      ]
     },
     "execution_count": 5,
     "metadata": {},
     "output_type": "execute_result"
    }
   ],
   "source": [
    "df1 = df.reset_index()['close']\n",
    "df1"
   ]
  },
  {
   "cell_type": "markdown",
   "metadata": {},
   "source": [
    "# LSTM are very sensitive to scale of a data hence, applying min max scaler"
   ]
  },
  {
   "cell_type": "code",
   "execution_count": 8,
   "metadata": {},
   "outputs": [
    {
     "data": {
      "text/plain": [
       "array([[0.0701399 ],\n",
       "       [0.07342514],\n",
       "       [0.07161825],\n",
       "       ...,\n",
       "       [0.96944726],\n",
       "       [0.98713281],\n",
       "       [0.95042024]])"
      ]
     },
     "execution_count": 8,
     "metadata": {},
     "output_type": "execute_result"
    }
   ],
   "source": [
    "import numpy as np\n",
    "from sklearn.preprocessing import MinMaxScaler\n",
    "scaler = MinMaxScaler(feature_range=(0,1))\n",
    "\n",
    "df1 = scaler.fit_transform(np.array(df1).reshape(-1,1))\n",
    "df1"
   ]
  },
  {
   "cell_type": "markdown",
   "metadata": {},
   "source": [
    "# Splitting into training and test sets"
   ]
  },
  {
   "cell_type": "code",
   "execution_count": 9,
   "metadata": {},
   "outputs": [],
   "source": [
    "training_len = int(0.65* len(df1))\n",
    "test_len = len(df1) - training_len\n",
    "\n",
    "train_set = df1[0:training_len,:]\n",
    "test_set = df1[training_len:,:]"
   ]
  },
  {
   "cell_type": "markdown",
   "metadata": {},
   "source": [
    "#  Sliding window data sets"
   ]
  },
  {
   "cell_type": "code",
   "execution_count": 10,
   "metadata": {},
   "outputs": [],
   "source": [
    "def make_dataset(win_len,train_set):\n",
    "\n",
    "    X_train = np.zeros([len(train_set)-(win_len+1),win_len])\n",
    "    y_train = np.zeros([len(train_set)-(win_len+1),1])\n",
    "    \n",
    "    \n",
    "    for i in range(0,len(train_set)-(win_len+1)):\n",
    "\n",
    "        X_t = train_set[i:win_len+i,:]\n",
    "        y_t = train_set[win_len+i,:]\n",
    "\n",
    "\n",
    "        X_train[i,:] =  np.array(X_t).reshape(1,-1)\n",
    "        y_train[i,:] =  np.array(y_t).reshape(1,-1)\n",
    "        \n",
    "    return X_train,y_train\n",
    "    "
   ]
  },
  {
   "cell_type": "markdown",
   "metadata": {},
   "source": [
    "# Preparing training testing data"
   ]
  },
  {
   "cell_type": "code",
   "execution_count": 11,
   "metadata": {},
   "outputs": [],
   "source": [
    "win_len = 100\n",
    "\n",
    "X_train,y_train= make_dataset(win_len,train_set)\n",
    "X_test,y_test= make_dataset(win_len,test_set)"
   ]
  },
  {
   "cell_type": "markdown",
   "metadata": {},
   "source": [
    "# Before Implementing LSTM we need to reshape the input to a 3d vector \n",
    "# (m,Tx,[size of each time step])"
   ]
  },
  {
   "cell_type": "code",
   "execution_count": 12,
   "metadata": {},
   "outputs": [
    {
     "data": {
      "text/plain": [
       "(716, 100, 1)"
      ]
     },
     "execution_count": 12,
     "metadata": {},
     "output_type": "execute_result"
    }
   ],
   "source": [
    "\n",
    "\n",
    "X_train = X_train.reshape(X_train.shape[0],X_train.shape[1],1)\n",
    "X_test = X_test.reshape(X_test.shape[0],X_test.shape[1],1)\n",
    "\n",
    "X_train.shape"
   ]
  },
  {
   "cell_type": "markdown",
   "metadata": {},
   "source": [
    "# Create LSTM model"
   ]
  },
  {
   "cell_type": "code",
   "execution_count": 13,
   "metadata": {},
   "outputs": [
    {
     "name": "stderr",
     "output_type": "stream",
     "text": [
      "Using TensorFlow backend.\n"
     ]
    }
   ],
   "source": [
    "import keras\n",
    "from keras.models import Sequential\n",
    "from keras.layers import LSTM\n",
    "from keras.layers import Bidirectional\n",
    "from keras.layers import Dense\n",
    "from keras.layers import Dropout"
   ]
  },
  {
   "cell_type": "code",
   "execution_count": 14,
   "metadata": {},
   "outputs": [
    {
     "name": "stdout",
     "output_type": "stream",
     "text": [
      "Model: \"sequential_1\"\n",
      "_________________________________________________________________\n",
      "Layer (type)                 Output Shape              Param #   \n",
      "=================================================================\n",
      "lstm_1 (LSTM)                (None, 100, 50)           10400     \n",
      "_________________________________________________________________\n",
      "lstm_2 (LSTM)                (None, 100, 50)           20200     \n",
      "_________________________________________________________________\n",
      "lstm_3 (LSTM)                (None, 50)                20200     \n",
      "_________________________________________________________________\n",
      "dense_1 (Dense)              (None, 10)                510       \n",
      "_________________________________________________________________\n",
      "dense_2 (Dense)              (None, 1)                 11        \n",
      "=================================================================\n",
      "Total params: 51,321\n",
      "Trainable params: 51,321\n",
      "Non-trainable params: 0\n",
      "_________________________________________________________________\n"
     ]
    }
   ],
   "source": [
    "# Creating model\n",
    "embedding_vector_features=40\n",
    "\n",
    "model=Sequential()\n",
    "model.add(LSTM(50, return_sequences=True,input_shape=(100,1))) \n",
    "\n",
    "model.add(LSTM(50,return_sequences=True))\n",
    "\n",
    "model.add(LSTM(50))\n",
    "\n",
    "model.add(Dense(10,activation='relu'))\n",
    "\n",
    "model.add(Dense(1,activation='linear'))\n",
    "model.compile(loss='mean_squared_error',optimizer='adam')\n",
    "\n",
    "model.summary()"
   ]
  },
  {
   "cell_type": "markdown",
   "metadata": {},
   "source": [
    "# Fitting the model"
   ]
  },
  {
   "cell_type": "code",
   "execution_count": 17,
   "metadata": {
    "collapsed": true
   },
   "outputs": [
    {
     "name": "stdout",
     "output_type": "stream",
     "text": [
      "Train on 716 samples, validate on 339 samples\n",
      "Epoch 1/50\n",
      "716/716 [==============================] - 1s 2ms/step - loss: 1.0862e-04 - val_loss: 0.0011\n",
      "Epoch 2/50\n",
      "716/716 [==============================] - 2s 2ms/step - loss: 8.8557e-05 - val_loss: 7.0519e-04\n",
      "Epoch 3/50\n",
      "716/716 [==============================] - 2s 2ms/step - loss: 9.3678e-05 - val_loss: 4.9802e-04\n",
      "Epoch 4/50\n",
      "716/716 [==============================] - 1s 2ms/step - loss: 8.1028e-05 - val_loss: 6.7698e-04\n",
      "Epoch 5/50\n",
      "716/716 [==============================] - 1s 2ms/step - loss: 8.3304e-05 - val_loss: 9.6641e-04\n",
      "Epoch 6/50\n",
      "716/716 [==============================] - 1s 2ms/step - loss: 9.1661e-05 - val_loss: 5.1498e-04\n",
      "Epoch 7/50\n",
      "716/716 [==============================] - 1s 2ms/step - loss: 7.8820e-05 - val_loss: 4.8236e-04\n",
      "Epoch 8/50\n",
      "716/716 [==============================] - 2s 2ms/step - loss: 7.5275e-05 - val_loss: 4.7431e-04\n",
      "Epoch 9/50\n",
      "716/716 [==============================] - 2s 2ms/step - loss: 7.9126e-05 - val_loss: 4.9548e-04\n",
      "Epoch 10/50\n",
      "716/716 [==============================] - 1s 2ms/step - loss: 7.3006e-05 - val_loss: 5.2741e-04\n",
      "Epoch 11/50\n",
      "716/716 [==============================] - 1s 2ms/step - loss: 7.2393e-05 - val_loss: 7.1592e-04\n",
      "Epoch 12/50\n",
      "716/716 [==============================] - 1s 2ms/step - loss: 7.5027e-05 - val_loss: 5.6032e-04\n",
      "Epoch 13/50\n",
      "716/716 [==============================] - 1s 2ms/step - loss: 7.4271e-05 - val_loss: 5.9139e-04\n",
      "Epoch 14/50\n",
      "716/716 [==============================] - 1s 2ms/step - loss: 7.7975e-05 - val_loss: 5.1514e-04\n",
      "Epoch 15/50\n",
      "716/716 [==============================] - 2s 2ms/step - loss: 8.2185e-05 - val_loss: 4.6331e-04\n",
      "Epoch 16/50\n",
      "716/716 [==============================] - 1s 2ms/step - loss: 6.9321e-05 - val_loss: 4.7655e-04\n",
      "Epoch 17/50\n",
      "716/716 [==============================] - 1s 2ms/step - loss: 6.6043e-05 - val_loss: 5.0407e-04\n",
      "Epoch 18/50\n",
      "716/716 [==============================] - 1s 2ms/step - loss: 6.6735e-05 - val_loss: 6.3443e-04\n",
      "Epoch 19/50\n",
      "716/716 [==============================] - 1s 2ms/step - loss: 6.6062e-05 - val_loss: 5.3639e-04\n",
      "Epoch 20/50\n",
      "716/716 [==============================] - 1s 2ms/step - loss: 7.3208e-05 - val_loss: 4.3549e-04\n",
      "Epoch 21/50\n",
      "716/716 [==============================] - 1s 2ms/step - loss: 7.2087e-05 - val_loss: 9.0589e-04\n",
      "Epoch 22/50\n",
      "716/716 [==============================] - 2s 2ms/step - loss: 7.4950e-05 - val_loss: 4.3991e-04\n",
      "Epoch 23/50\n",
      "716/716 [==============================] - 2s 2ms/step - loss: 6.6020e-05 - val_loss: 4.2952e-04\n",
      "Epoch 24/50\n",
      "716/716 [==============================] - 1s 2ms/step - loss: 6.6600e-05 - val_loss: 4.5421e-04\n",
      "Epoch 25/50\n",
      "716/716 [==============================] - 1s 2ms/step - loss: 7.0096e-05 - val_loss: 4.5809e-04\n",
      "Epoch 26/50\n",
      "716/716 [==============================] - 1s 2ms/step - loss: 6.5316e-05 - val_loss: 4.6774e-04\n",
      "Epoch 27/50\n",
      "716/716 [==============================] - 1s 2ms/step - loss: 6.6427e-05 - val_loss: 5.6893e-04\n",
      "Epoch 28/50\n",
      "716/716 [==============================] - 2s 2ms/step - loss: 6.3548e-05 - val_loss: 4.2517e-04\n",
      "Epoch 29/50\n",
      "716/716 [==============================] - 1s 2ms/step - loss: 6.3054e-05 - val_loss: 5.0242e-04\n",
      "Epoch 30/50\n",
      "716/716 [==============================] - 1s 2ms/step - loss: 7.8657e-05 - val_loss: 4.0980e-04\n",
      "Epoch 31/50\n",
      "716/716 [==============================] - 1s 2ms/step - loss: 6.4914e-05 - val_loss: 3.9699e-04\n",
      "Epoch 32/50\n",
      "716/716 [==============================] - 2s 2ms/step - loss: 6.4139e-05 - val_loss: 8.3401e-04\n",
      "Epoch 33/50\n",
      "716/716 [==============================] - 1s 2ms/step - loss: 7.3962e-05 - val_loss: 4.4717e-04\n",
      "Epoch 34/50\n",
      "716/716 [==============================] - 1s 2ms/step - loss: 6.0699e-05 - val_loss: 4.4972e-04\n",
      "Epoch 35/50\n",
      "716/716 [==============================] - 1s 2ms/step - loss: 6.2448e-05 - val_loss: 7.6797e-04\n",
      "Epoch 36/50\n",
      "716/716 [==============================] - 1s 2ms/step - loss: 9.8677e-05 - val_loss: 5.3256e-04\n",
      "Epoch 37/50\n",
      "716/716 [==============================] - 1s 2ms/step - loss: 8.1321e-05 - val_loss: 4.1373e-04\n",
      "Epoch 38/50\n",
      "716/716 [==============================] - 2s 2ms/step - loss: 6.5480e-05 - val_loss: 4.0985e-04\n",
      "Epoch 39/50\n",
      "716/716 [==============================] - 1s 2ms/step - loss: 6.3868e-05 - val_loss: 3.8976e-04\n",
      "Epoch 40/50\n",
      "716/716 [==============================] - 1s 2ms/step - loss: 7.9458e-05 - val_loss: 8.4567e-04\n",
      "Epoch 41/50\n",
      "716/716 [==============================] - 1s 2ms/step - loss: 7.9261e-05 - val_loss: 4.1693e-04\n",
      "Epoch 42/50\n",
      "716/716 [==============================] - 2s 2ms/step - loss: 5.9666e-05 - val_loss: 3.8629e-04\n",
      "Epoch 43/50\n",
      "716/716 [==============================] - 1s 2ms/step - loss: 6.1709e-05 - val_loss: 4.8365e-04\n",
      "Epoch 44/50\n",
      "716/716 [==============================] - 1s 2ms/step - loss: 6.2811e-05 - val_loss: 3.8605e-04\n",
      "Epoch 45/50\n",
      "716/716 [==============================] - 1s 2ms/step - loss: 6.2628e-05 - val_loss: 4.6056e-04\n",
      "Epoch 46/50\n",
      "716/716 [==============================] - 1s 2ms/step - loss: 6.0736e-05 - val_loss: 7.7530e-04\n",
      "Epoch 47/50\n",
      "716/716 [==============================] - 1s 2ms/step - loss: 6.4215e-05 - val_loss: 4.1103e-04\n",
      "Epoch 48/50\n",
      "716/716 [==============================] - 1s 2ms/step - loss: 6.1400e-05 - val_loss: 4.7045e-04\n",
      "Epoch 49/50\n",
      "716/716 [==============================] - 1s 2ms/step - loss: 6.0967e-05 - val_loss: 3.7926e-04\n",
      "Epoch 50/50\n",
      "716/716 [==============================] - 1s 2ms/step - loss: 5.7757e-05 - val_loss: 4.0210e-04\n"
     ]
    }
   ],
   "source": [
    "res = model.fit(X_train,y_train,validation_data=(X_test,y_test),epochs=50,batch_size=64,verbose=1)"
   ]
  },
  {
   "cell_type": "code",
   "execution_count": 22,
   "metadata": {},
   "outputs": [],
   "source": [
    "model.save('model.h5')"
   ]
  },
  {
   "cell_type": "markdown",
   "metadata": {},
   "source": [
    "# Lets Do the prediction and check performance metrics"
   ]
  },
  {
   "cell_type": "code",
   "execution_count": 25,
   "metadata": {},
   "outputs": [],
   "source": [
    "from keras.models import load_model\n",
    "model = load_model('model.h5')\n",
    "train_predict = model.predict(X_train)\n",
    "test_predict  = model.predict(X_test)"
   ]
  },
  {
   "cell_type": "markdown",
   "metadata": {},
   "source": [
    "# Transform back to original form"
   ]
  },
  {
   "cell_type": "code",
   "execution_count": 19,
   "metadata": {},
   "outputs": [],
   "source": [
    "\n",
    "df1 = scaler.inverse_transform(np.array(df1).reshape(-1,1))\n",
    "train_predict=scaler.inverse_transform(np.array(train_predict).reshape(-1,1))\n",
    "test_predict=scaler.inverse_transform(np.array(test_predict).reshape(-1,1))"
   ]
  },
  {
   "cell_type": "markdown",
   "metadata": {},
   "source": [
    "# Plotting the stock prices"
   ]
  },
  {
   "cell_type": "code",
   "execution_count": 20,
   "metadata": {},
   "outputs": [],
   "source": [
    "pred1 = np.zeros(df1.shape)*np.nan\n",
    "pred2 = np.zeros(df1.shape)*np.nan\n",
    "pred1[win_len:win_len+len(train_predict),:] = train_predict\n",
    "pred2[((2*win_len)+len(train_predict)+2):,:] = test_predict"
   ]
  },
  {
   "cell_type": "code",
   "execution_count": 26,
   "metadata": {},
   "outputs": [
    {
     "data": {
      "image/png": "[encoded data removed]",
      "text/plain": [
       "<Figure size 1152x576 with 1 Axes>"
      ]
     },
     "metadata": {
      "needs_background": "light"
     },
     "output_type": "display_data"
    }
   ],
   "source": [
    "import matplotlib.pyplot as plt\n",
    "\n",
    "plt.figure(figsize = (16,8))\n",
    "\n",
    "plt.xlabel('days',fontsize = 18)\n",
    "\n",
    "plt.ylabel('closing price',fontsize = 18)\n",
    "\n",
    "plt.title('Apple Stock price ')\n",
    "\n",
    "\n",
    "plt.plot(df1, label = \"Actual\")\n",
    "plt.plot(pred1,linewidth=2.5, label = \"Training Prediction\")\n",
    "plt.plot(pred2,linewidth=2.5, label = \"Test Prediction\")\n",
    "\n",
    "plt.legend()\n",
    "\n",
    "plt.show()"
   ]
  },
  {
   "cell_type": "code",
   "execution_count": null,
   "metadata": {},
   "outputs": [],
   "source": []
  }
 ],
 "metadata": {
  "kernelspec": {
   "display_name": "Python 3",
   "language": "python",
   "name": "python3"
  },
  "language_info": {
   "codemirror_mode": {
    "name": "ipython",
    "version": 3
   },
   "file_extension": ".py",
   "mimetype": "text/x-python",
   "name": "python",
   "nbconvert_exporter": "python",
   "pygments_lexer": "ipython3",
   "version": "3.7.7"
  },
  "varInspector": {
   "cols": {
    "lenName": 16,
    "lenType": 16,
    "lenVar": 40
   },
   "kernels_config": {
    "python": {
     "delete_cmd_postfix": "",
     "delete_cmd_prefix": "del ",
     "library": "var_list.py",
     "varRefreshCmd": "print(var_dic_list())"
    },
    "r": {
     "delete_cmd_postfix": ") ",
     "delete_cmd_prefix": "rm(",
     "library": "var_list.r",
     "varRefreshCmd": "cat(var_dic_list()) "
    }
   },
   "types_to_exclude": [
    "module",
    "function",
    "builtin_function_or_method",
    "instance",
    "_Feature"
   ],
   "window_display": false
  }
 },
 "nbformat": 4,
 "nbformat_minor": 4
}
